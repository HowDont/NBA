{
 "cells": [
  {
   "cell_type": "code",
   "execution_count": 1,
   "metadata": {},
   "outputs": [],
   "source": [
    "from nba_api.stats.static import players\n",
    "player_dict =players.get_players()"
   ]
  },
  {
   "cell_type": "code",
   "execution_count": 2,
   "metadata": {},
   "outputs": [
    {
     "data": {
      "text/plain": [
       "{'id': 1627732,\n",
       " 'full_name': 'Ben Simmons',\n",
       " 'first_name': 'Ben',\n",
       " 'last_name': 'Simmons',\n",
       " 'is_active': True}"
      ]
     },
     "execution_count": 2,
     "metadata": {},
     "output_type": "execute_result"
    }
   ],
   "source": [
    "BSimmons = [player for player in player_dict if player['full_name'] == 'Ben Simmons'][0]\n",
    "BSimmons"
   ]
  },
  {
   "cell_type": "code",
   "execution_count": 12,
   "metadata": {},
   "outputs": [
    {
     "data": {
      "text/plain": [
       "{'id': 1629027,\n",
       " 'full_name': 'Trae Young',\n",
       " 'first_name': 'Trae',\n",
       " 'last_name': 'Young',\n",
       " 'is_active': True}"
      ]
     },
     "execution_count": 12,
     "metadata": {},
     "output_type": "execute_result"
    }
   ],
   "source": [
    "TYoung = [player for player in player_dict if player['full_name'] == 'Trae Young'][0]\n",
    "TYoung"
   ]
  },
  {
   "cell_type": "code",
   "execution_count": 3,
   "metadata": {},
   "outputs": [],
   "source": [
    "from nba_api.stats.endpoints import ShotChartDetail"
   ]
  },
  {
   "cell_type": "code",
   "execution_count": 13,
   "metadata": {},
   "outputs": [],
   "source": [
    "player_id = '1627732' # fill in the player you care about\n",
    "playoffs_simmons = ShotChartDetail(team_id='0', player_id=player_id, season_type_all_star='Playoffs', season_nullable='2020-21', context_measure_simple='FGA').get_data_frames()[0]"
   ]
  },
  {
   "cell_type": "code",
   "execution_count": 19,
   "metadata": {},
   "outputs": [
    {
     "data": {
      "text/plain": [
       "GRID_TYPE              object\n",
       "GAME_ID                object\n",
       "GAME_EVENT_ID           int64\n",
       "PLAYER_ID               int64\n",
       "PLAYER_NAME            object\n",
       "TEAM_ID                 int64\n",
       "TEAM_NAME              object\n",
       "PERIOD                  int64\n",
       "MINUTES_REMAINING       int64\n",
       "SECONDS_REMAINING       int64\n",
       "EVENT_TYPE             object\n",
       "ACTION_TYPE            object\n",
       "SHOT_TYPE              object\n",
       "SHOT_ZONE_BASIC        object\n",
       "SHOT_ZONE_AREA         object\n",
       "SHOT_ZONE_RANGE        object\n",
       "SHOT_DISTANCE           int64\n",
       "LOC_X                   int64\n",
       "LOC_Y                   int64\n",
       "SHOT_ATTEMPTED_FLAG     int64\n",
       "SHOT_MADE_FLAG          int64\n",
       "GAME_DATE              object\n",
       "HTM                    object\n",
       "VTM                    object\n",
       "dtype: object"
      ]
     },
     "execution_count": 19,
     "metadata": {},
     "output_type": "execute_result"
    }
   ],
   "source": [
    "playoffs_simmons.dtypes"
   ]
  },
  {
   "cell_type": "code",
   "execution_count": 20,
   "metadata": {},
   "outputs": [],
   "source": [
    "playoffs_simmons['GAME_DATE'] = playoffs_simmons['GAME_DATE'].astype(str).astype(int)"
   ]
  },
  {
   "cell_type": "code",
   "execution_count": 22,
   "metadata": {},
   "outputs": [
    {
     "data": {
      "text/plain": [
       "GRID_TYPE              object\n",
       "GAME_ID                object\n",
       "GAME_EVENT_ID           int64\n",
       "PLAYER_ID               int64\n",
       "PLAYER_NAME            object\n",
       "TEAM_ID                 int64\n",
       "TEAM_NAME              object\n",
       "PERIOD                  int64\n",
       "MINUTES_REMAINING       int64\n",
       "SECONDS_REMAINING       int64\n",
       "EVENT_TYPE             object\n",
       "ACTION_TYPE            object\n",
       "SHOT_TYPE              object\n",
       "SHOT_ZONE_BASIC        object\n",
       "SHOT_ZONE_AREA         object\n",
       "SHOT_ZONE_RANGE        object\n",
       "SHOT_DISTANCE           int64\n",
       "LOC_X                   int64\n",
       "LOC_Y                   int64\n",
       "SHOT_ATTEMPTED_FLAG     int64\n",
       "SHOT_MADE_FLAG          int64\n",
       "GAME_DATE               int32\n",
       "HTM                    object\n",
       "VTM                    object\n",
       "dtype: object"
      ]
     },
     "execution_count": 22,
     "metadata": {},
     "output_type": "execute_result"
    }
   ],
   "source": [
    "playoffs_simmons.dtypes"
   ]
  },
  {
   "cell_type": "code",
   "execution_count": 30,
   "metadata": {},
   "outputs": [
    {
     "data": {
      "text/html": [
       "<div>\n",
       "<style scoped>\n",
       "    .dataframe tbody tr th:only-of-type {\n",
       "        vertical-align: middle;\n",
       "    }\n",
       "\n",
       "    .dataframe tbody tr th {\n",
       "        vertical-align: top;\n",
       "    }\n",
       "\n",
       "    .dataframe thead th {\n",
       "        text-align: right;\n",
       "    }\n",
       "</style>\n",
       "<table border=\"1\" class=\"dataframe\">\n",
       "  <thead>\n",
       "    <tr style=\"text-align: right;\">\n",
       "      <th></th>\n",
       "      <th>GRID_TYPE</th>\n",
       "      <th>GAME_ID</th>\n",
       "      <th>GAME_EVENT_ID</th>\n",
       "      <th>PLAYER_ID</th>\n",
       "      <th>PLAYER_NAME</th>\n",
       "      <th>TEAM_ID</th>\n",
       "      <th>TEAM_NAME</th>\n",
       "      <th>PERIOD</th>\n",
       "      <th>MINUTES_REMAINING</th>\n",
       "      <th>SECONDS_REMAINING</th>\n",
       "      <th>...</th>\n",
       "      <th>SHOT_ZONE_AREA</th>\n",
       "      <th>SHOT_ZONE_RANGE</th>\n",
       "      <th>SHOT_DISTANCE</th>\n",
       "      <th>LOC_X</th>\n",
       "      <th>LOC_Y</th>\n",
       "      <th>SHOT_ATTEMPTED_FLAG</th>\n",
       "      <th>SHOT_MADE_FLAG</th>\n",
       "      <th>GAME_DATE</th>\n",
       "      <th>HTM</th>\n",
       "      <th>VTM</th>\n",
       "    </tr>\n",
       "  </thead>\n",
       "  <tbody>\n",
       "    <tr>\n",
       "      <th>0</th>\n",
       "      <td>Shot Chart Detail</td>\n",
       "      <td>0042000101</td>\n",
       "      <td>11</td>\n",
       "      <td>1627732</td>\n",
       "      <td>Ben Simmons</td>\n",
       "      <td>1610612755</td>\n",
       "      <td>Philadelphia 76ers</td>\n",
       "      <td>1</td>\n",
       "      <td>11</td>\n",
       "      <td>8</td>\n",
       "      <td>...</td>\n",
       "      <td>Center(C)</td>\n",
       "      <td>Less Than 8 ft.</td>\n",
       "      <td>3</td>\n",
       "      <td>29</td>\n",
       "      <td>11</td>\n",
       "      <td>1</td>\n",
       "      <td>1</td>\n",
       "      <td>20210523</td>\n",
       "      <td>PHI</td>\n",
       "      <td>WAS</td>\n",
       "    </tr>\n",
       "    <tr>\n",
       "      <th>1</th>\n",
       "      <td>Shot Chart Detail</td>\n",
       "      <td>0042000101</td>\n",
       "      <td>21</td>\n",
       "      <td>1627732</td>\n",
       "      <td>Ben Simmons</td>\n",
       "      <td>1610612755</td>\n",
       "      <td>Philadelphia 76ers</td>\n",
       "      <td>1</td>\n",
       "      <td>10</td>\n",
       "      <td>17</td>\n",
       "      <td>...</td>\n",
       "      <td>Center(C)</td>\n",
       "      <td>Less Than 8 ft.</td>\n",
       "      <td>2</td>\n",
       "      <td>16</td>\n",
       "      <td>-13</td>\n",
       "      <td>1</td>\n",
       "      <td>1</td>\n",
       "      <td>20210523</td>\n",
       "      <td>PHI</td>\n",
       "      <td>WAS</td>\n",
       "    </tr>\n",
       "    <tr>\n",
       "      <th>2</th>\n",
       "      <td>Shot Chart Detail</td>\n",
       "      <td>0042000101</td>\n",
       "      <td>101</td>\n",
       "      <td>1627732</td>\n",
       "      <td>Ben Simmons</td>\n",
       "      <td>1610612755</td>\n",
       "      <td>Philadelphia 76ers</td>\n",
       "      <td>1</td>\n",
       "      <td>4</td>\n",
       "      <td>13</td>\n",
       "      <td>...</td>\n",
       "      <td>Center(C)</td>\n",
       "      <td>Less Than 8 ft.</td>\n",
       "      <td>3</td>\n",
       "      <td>3</td>\n",
       "      <td>35</td>\n",
       "      <td>1</td>\n",
       "      <td>0</td>\n",
       "      <td>20210523</td>\n",
       "      <td>PHI</td>\n",
       "      <td>WAS</td>\n",
       "    </tr>\n",
       "    <tr>\n",
       "      <th>3</th>\n",
       "      <td>Shot Chart Detail</td>\n",
       "      <td>0042000101</td>\n",
       "      <td>277</td>\n",
       "      <td>1627732</td>\n",
       "      <td>Ben Simmons</td>\n",
       "      <td>1610612755</td>\n",
       "      <td>Philadelphia 76ers</td>\n",
       "      <td>2</td>\n",
       "      <td>4</td>\n",
       "      <td>46</td>\n",
       "      <td>...</td>\n",
       "      <td>Center(C)</td>\n",
       "      <td>Less Than 8 ft.</td>\n",
       "      <td>7</td>\n",
       "      <td>17</td>\n",
       "      <td>73</td>\n",
       "      <td>1</td>\n",
       "      <td>0</td>\n",
       "      <td>20210523</td>\n",
       "      <td>PHI</td>\n",
       "      <td>WAS</td>\n",
       "    </tr>\n",
       "    <tr>\n",
       "      <th>4</th>\n",
       "      <td>Shot Chart Detail</td>\n",
       "      <td>0042000101</td>\n",
       "      <td>302</td>\n",
       "      <td>1627732</td>\n",
       "      <td>Ben Simmons</td>\n",
       "      <td>1610612755</td>\n",
       "      <td>Philadelphia 76ers</td>\n",
       "      <td>2</td>\n",
       "      <td>3</td>\n",
       "      <td>19</td>\n",
       "      <td>...</td>\n",
       "      <td>Center(C)</td>\n",
       "      <td>Less Than 8 ft.</td>\n",
       "      <td>0</td>\n",
       "      <td>0</td>\n",
       "      <td>0</td>\n",
       "      <td>1</td>\n",
       "      <td>0</td>\n",
       "      <td>20210523</td>\n",
       "      <td>PHI</td>\n",
       "      <td>WAS</td>\n",
       "    </tr>\n",
       "    <tr>\n",
       "      <th>...</th>\n",
       "      <td>...</td>\n",
       "      <td>...</td>\n",
       "      <td>...</td>\n",
       "      <td>...</td>\n",
       "      <td>...</td>\n",
       "      <td>...</td>\n",
       "      <td>...</td>\n",
       "      <td>...</td>\n",
       "      <td>...</td>\n",
       "      <td>...</td>\n",
       "      <td>...</td>\n",
       "      <td>...</td>\n",
       "      <td>...</td>\n",
       "      <td>...</td>\n",
       "      <td>...</td>\n",
       "      <td>...</td>\n",
       "      <td>...</td>\n",
       "      <td>...</td>\n",
       "      <td>...</td>\n",
       "      <td>...</td>\n",
       "      <td>...</td>\n",
       "    </tr>\n",
       "    <tr>\n",
       "      <th>90</th>\n",
       "      <td>Shot Chart Detail</td>\n",
       "      <td>0042000206</td>\n",
       "      <td>354</td>\n",
       "      <td>1627732</td>\n",
       "      <td>Ben Simmons</td>\n",
       "      <td>1610612755</td>\n",
       "      <td>Philadelphia 76ers</td>\n",
       "      <td>3</td>\n",
       "      <td>8</td>\n",
       "      <td>17</td>\n",
       "      <td>...</td>\n",
       "      <td>Center(C)</td>\n",
       "      <td>Less Than 8 ft.</td>\n",
       "      <td>0</td>\n",
       "      <td>8</td>\n",
       "      <td>-1</td>\n",
       "      <td>1</td>\n",
       "      <td>0</td>\n",
       "      <td>20210618</td>\n",
       "      <td>ATL</td>\n",
       "      <td>PHI</td>\n",
       "    </tr>\n",
       "    <tr>\n",
       "      <th>91</th>\n",
       "      <td>Shot Chart Detail</td>\n",
       "      <td>0042000207</td>\n",
       "      <td>77</td>\n",
       "      <td>1627732</td>\n",
       "      <td>Ben Simmons</td>\n",
       "      <td>1610612755</td>\n",
       "      <td>Philadelphia 76ers</td>\n",
       "      <td>1</td>\n",
       "      <td>4</td>\n",
       "      <td>35</td>\n",
       "      <td>...</td>\n",
       "      <td>Center(C)</td>\n",
       "      <td>Less Than 8 ft.</td>\n",
       "      <td>2</td>\n",
       "      <td>20</td>\n",
       "      <td>11</td>\n",
       "      <td>1</td>\n",
       "      <td>0</td>\n",
       "      <td>20210620</td>\n",
       "      <td>PHI</td>\n",
       "      <td>ATL</td>\n",
       "    </tr>\n",
       "    <tr>\n",
       "      <th>92</th>\n",
       "      <td>Shot Chart Detail</td>\n",
       "      <td>0042000207</td>\n",
       "      <td>228</td>\n",
       "      <td>1627732</td>\n",
       "      <td>Ben Simmons</td>\n",
       "      <td>1610612755</td>\n",
       "      <td>Philadelphia 76ers</td>\n",
       "      <td>2</td>\n",
       "      <td>7</td>\n",
       "      <td>33</td>\n",
       "      <td>...</td>\n",
       "      <td>Center(C)</td>\n",
       "      <td>Less Than 8 ft.</td>\n",
       "      <td>0</td>\n",
       "      <td>-5</td>\n",
       "      <td>5</td>\n",
       "      <td>1</td>\n",
       "      <td>1</td>\n",
       "      <td>20210620</td>\n",
       "      <td>PHI</td>\n",
       "      <td>ATL</td>\n",
       "    </tr>\n",
       "    <tr>\n",
       "      <th>93</th>\n",
       "      <td>Shot Chart Detail</td>\n",
       "      <td>0042000207</td>\n",
       "      <td>397</td>\n",
       "      <td>1627732</td>\n",
       "      <td>Ben Simmons</td>\n",
       "      <td>1610612755</td>\n",
       "      <td>Philadelphia 76ers</td>\n",
       "      <td>3</td>\n",
       "      <td>8</td>\n",
       "      <td>46</td>\n",
       "      <td>...</td>\n",
       "      <td>Center(C)</td>\n",
       "      <td>Less Than 8 ft.</td>\n",
       "      <td>7</td>\n",
       "      <td>-17</td>\n",
       "      <td>71</td>\n",
       "      <td>1</td>\n",
       "      <td>0</td>\n",
       "      <td>20210620</td>\n",
       "      <td>PHI</td>\n",
       "      <td>ATL</td>\n",
       "    </tr>\n",
       "    <tr>\n",
       "      <th>94</th>\n",
       "      <td>Shot Chart Detail</td>\n",
       "      <td>0042000207</td>\n",
       "      <td>417</td>\n",
       "      <td>1627732</td>\n",
       "      <td>Ben Simmons</td>\n",
       "      <td>1610612755</td>\n",
       "      <td>Philadelphia 76ers</td>\n",
       "      <td>3</td>\n",
       "      <td>6</td>\n",
       "      <td>23</td>\n",
       "      <td>...</td>\n",
       "      <td>Center(C)</td>\n",
       "      <td>Less Than 8 ft.</td>\n",
       "      <td>2</td>\n",
       "      <td>2</td>\n",
       "      <td>25</td>\n",
       "      <td>1</td>\n",
       "      <td>1</td>\n",
       "      <td>20210620</td>\n",
       "      <td>PHI</td>\n",
       "      <td>ATL</td>\n",
       "    </tr>\n",
       "  </tbody>\n",
       "</table>\n",
       "<p>95 rows × 24 columns</p>\n",
       "</div>"
      ],
      "text/plain": [
       "            GRID_TYPE     GAME_ID  GAME_EVENT_ID  PLAYER_ID  PLAYER_NAME  \\\n",
       "0   Shot Chart Detail  0042000101             11    1627732  Ben Simmons   \n",
       "1   Shot Chart Detail  0042000101             21    1627732  Ben Simmons   \n",
       "2   Shot Chart Detail  0042000101            101    1627732  Ben Simmons   \n",
       "3   Shot Chart Detail  0042000101            277    1627732  Ben Simmons   \n",
       "4   Shot Chart Detail  0042000101            302    1627732  Ben Simmons   \n",
       "..                ...         ...            ...        ...          ...   \n",
       "90  Shot Chart Detail  0042000206            354    1627732  Ben Simmons   \n",
       "91  Shot Chart Detail  0042000207             77    1627732  Ben Simmons   \n",
       "92  Shot Chart Detail  0042000207            228    1627732  Ben Simmons   \n",
       "93  Shot Chart Detail  0042000207            397    1627732  Ben Simmons   \n",
       "94  Shot Chart Detail  0042000207            417    1627732  Ben Simmons   \n",
       "\n",
       "       TEAM_ID           TEAM_NAME  PERIOD  MINUTES_REMAINING  \\\n",
       "0   1610612755  Philadelphia 76ers       1                 11   \n",
       "1   1610612755  Philadelphia 76ers       1                 10   \n",
       "2   1610612755  Philadelphia 76ers       1                  4   \n",
       "3   1610612755  Philadelphia 76ers       2                  4   \n",
       "4   1610612755  Philadelphia 76ers       2                  3   \n",
       "..         ...                 ...     ...                ...   \n",
       "90  1610612755  Philadelphia 76ers       3                  8   \n",
       "91  1610612755  Philadelphia 76ers       1                  4   \n",
       "92  1610612755  Philadelphia 76ers       2                  7   \n",
       "93  1610612755  Philadelphia 76ers       3                  8   \n",
       "94  1610612755  Philadelphia 76ers       3                  6   \n",
       "\n",
       "    SECONDS_REMAINING  ... SHOT_ZONE_AREA  SHOT_ZONE_RANGE SHOT_DISTANCE  \\\n",
       "0                   8  ...      Center(C)  Less Than 8 ft.             3   \n",
       "1                  17  ...      Center(C)  Less Than 8 ft.             2   \n",
       "2                  13  ...      Center(C)  Less Than 8 ft.             3   \n",
       "3                  46  ...      Center(C)  Less Than 8 ft.             7   \n",
       "4                  19  ...      Center(C)  Less Than 8 ft.             0   \n",
       "..                ...  ...            ...              ...           ...   \n",
       "90                 17  ...      Center(C)  Less Than 8 ft.             0   \n",
       "91                 35  ...      Center(C)  Less Than 8 ft.             2   \n",
       "92                 33  ...      Center(C)  Less Than 8 ft.             0   \n",
       "93                 46  ...      Center(C)  Less Than 8 ft.             7   \n",
       "94                 23  ...      Center(C)  Less Than 8 ft.             2   \n",
       "\n",
       "   LOC_X LOC_Y SHOT_ATTEMPTED_FLAG  SHOT_MADE_FLAG  GAME_DATE  HTM  VTM  \n",
       "0     29    11                   1               1   20210523  PHI  WAS  \n",
       "1     16   -13                   1               1   20210523  PHI  WAS  \n",
       "2      3    35                   1               0   20210523  PHI  WAS  \n",
       "3     17    73                   1               0   20210523  PHI  WAS  \n",
       "4      0     0                   1               0   20210523  PHI  WAS  \n",
       "..   ...   ...                 ...             ...        ...  ...  ...  \n",
       "90     8    -1                   1               0   20210618  ATL  PHI  \n",
       "91    20    11                   1               0   20210620  PHI  ATL  \n",
       "92    -5     5                   1               1   20210620  PHI  ATL  \n",
       "93   -17    71                   1               0   20210620  PHI  ATL  \n",
       "94     2    25                   1               1   20210620  PHI  ATL  \n",
       "\n",
       "[95 rows x 24 columns]"
      ]
     },
     "execution_count": 30,
     "metadata": {},
     "output_type": "execute_result"
    }
   ],
   "source": [
    "playoffs_simmons_ATL = playoffs_simmons[(playoffs_simmons['GAME_DATE']>=20210523)]\n",
    "playoffs_simmons_ATL"
   ]
  },
  {
   "cell_type": "code",
   "execution_count": 32,
   "metadata": {},
   "outputs": [],
   "source": [
    "simmonsSummary =playoffs_simmons_ATL.groupby(['PERIOD'])[['SHOT_ATTEMPTED_FLAG','SHOT_MADE_FLAG']].sum() \n",
    "simmonsSummary['perGameAttempt'] = simmonsSummary['SHOT_ATTEMPTED_FLAG'].div(7)\n",
    "simmonsSummary['perGameMade'] = simmonsSummary['SHOT_MADE_FLAG'].div(7)"
   ]
  },
  {
   "cell_type": "code",
   "execution_count": 33,
   "metadata": {},
   "outputs": [
    {
     "data": {
      "text/html": [
       "<div>\n",
       "<style scoped>\n",
       "    .dataframe tbody tr th:only-of-type {\n",
       "        vertical-align: middle;\n",
       "    }\n",
       "\n",
       "    .dataframe tbody tr th {\n",
       "        vertical-align: top;\n",
       "    }\n",
       "\n",
       "    .dataframe thead th {\n",
       "        text-align: right;\n",
       "    }\n",
       "</style>\n",
       "<table border=\"1\" class=\"dataframe\">\n",
       "  <thead>\n",
       "    <tr style=\"text-align: right;\">\n",
       "      <th></th>\n",
       "      <th>SHOT_ATTEMPTED_FLAG</th>\n",
       "      <th>SHOT_MADE_FLAG</th>\n",
       "      <th>perGameAttempt</th>\n",
       "      <th>perGameMade</th>\n",
       "    </tr>\n",
       "    <tr>\n",
       "      <th>PERIOD</th>\n",
       "      <th></th>\n",
       "      <th></th>\n",
       "      <th></th>\n",
       "      <th></th>\n",
       "    </tr>\n",
       "  </thead>\n",
       "  <tbody>\n",
       "    <tr>\n",
       "      <th>1</th>\n",
       "      <td>37</td>\n",
       "      <td>24</td>\n",
       "      <td>5.285714</td>\n",
       "      <td>3.428571</td>\n",
       "    </tr>\n",
       "    <tr>\n",
       "      <th>2</th>\n",
       "      <td>27</td>\n",
       "      <td>13</td>\n",
       "      <td>3.857143</td>\n",
       "      <td>1.857143</td>\n",
       "    </tr>\n",
       "    <tr>\n",
       "      <th>3</th>\n",
       "      <td>25</td>\n",
       "      <td>17</td>\n",
       "      <td>3.571429</td>\n",
       "      <td>2.428571</td>\n",
       "    </tr>\n",
       "    <tr>\n",
       "      <th>4</th>\n",
       "      <td>6</td>\n",
       "      <td>5</td>\n",
       "      <td>0.857143</td>\n",
       "      <td>0.714286</td>\n",
       "    </tr>\n",
       "  </tbody>\n",
       "</table>\n",
       "</div>"
      ],
      "text/plain": [
       "        SHOT_ATTEMPTED_FLAG  SHOT_MADE_FLAG  perGameAttempt  perGameMade\n",
       "PERIOD                                                                  \n",
       "1                        37              24        5.285714     3.428571\n",
       "2                        27              13        3.857143     1.857143\n",
       "3                        25              17        3.571429     2.428571\n",
       "4                         6               5        0.857143     0.714286"
      ]
     },
     "execution_count": 33,
     "metadata": {},
     "output_type": "execute_result"
    }
   ],
   "source": [
    "simmonsSummary"
   ]
  },
  {
   "cell_type": "code",
   "execution_count": 11,
   "metadata": {},
   "outputs": [
    {
     "data": {
      "text/plain": [
       "<matplotlib.axes._subplots.AxesSubplot at 0x1b3124eb488>"
      ]
     },
     "execution_count": 11,
     "metadata": {},
     "output_type": "execute_result"
    },
    {
     "data": {
      "image/png": "[encoded data removed]",
      "text/plain": [
       "<Figure size 432x288 with 1 Axes>"
      ]
     },
     "metadata": {
      "needs_background": "light"
     },
     "output_type": "display_data"
    }
   ],
   "source": [
    "import seaborn as sns\n",
    "sns.scatterplot(x='LOC_X', y='LOC_Y', data=playoffs_dfs, color='red')"
   ]
  },
  {
   "cell_type": "code",
   "execution_count": 163,
   "metadata": {},
   "outputs": [
    {
     "data": {
      "text/plain": [
       "<matplotlib.axes._subplots.AxesSubplot at 0x22f1a35e208>"
      ]
     },
     "execution_count": 163,
     "metadata": {},
     "output_type": "execute_result"
    },
    {
     "data": {
      "image/png": "[encoded data removed]",
      "text/plain": [
       "<Figure size 432x288 with 1 Axes>"
      ]
     },
     "metadata": {
      "needs_background": "light"
     },
     "output_type": "display_data"
    }
   ],
   "source": [
    "sns.scatterplot(x='LOC_X', y='LOC_Y', data=shot_char_detail_dfs.loc[shot_char_detail_dfs['SHOT_DISTANCE']>=24], color='red')"
   ]
  },
  {
   "cell_type": "code",
   "execution_count": 164,
   "metadata": {},
   "outputs": [
    {
     "data": {
      "text/plain": [
       "<matplotlib.axes._subplots.AxesSubplot at 0x22f1a3ef0c8>"
      ]
     },
     "execution_count": 164,
     "metadata": {},
     "output_type": "execute_result"
    },
    {
     "data": {
      "image/png": "[encoded data removed]",
      "text/plain": [
       "<Figure size 432x288 with 1 Axes>"
      ]
     },
     "metadata": {
      "needs_background": "light"
     },
     "output_type": "display_data"
    }
   ],
   "source": [
    "sns.scatterplot(x='LOC_X', y='LOC_Y', data=shot_char_detail_dfs.loc[shot_char_detail_dfs['SHOT_DISTANCE']>26], color='red')"
   ]
  },
  {
   "cell_type": "code",
   "execution_count": 169,
   "metadata": {},
   "outputs": [
    {
     "data": {
      "text/plain": [
       "646"
      ]
     },
     "execution_count": 169,
     "metadata": {},
     "output_type": "execute_result"
    }
   ],
   "source": [
    "shot_char_detail_dfs.loc[shot_char_detail_dfs['SHOT_DISTANCE']>=24].shape[0]"
   ]
  },
  {
   "cell_type": "code",
   "execution_count": 166,
   "metadata": {},
   "outputs": [
    {
     "data": {
      "text/plain": [
       "29.632218844984802"
      ]
     },
     "execution_count": 166,
     "metadata": {},
     "output_type": "execute_result"
    }
   ],
   "source": [
    "shot_char_detail_dfs.loc[shot_char_detail_dfs['SHOT_DISTANCE']>26]['SHOT_DISTANCE'].mean()"
   ]
  },
  {
   "cell_type": "code",
   "execution_count": 170,
   "metadata": {},
   "outputs": [
    {
     "data": {
      "text/plain": [
       "258"
      ]
     },
     "execution_count": 170,
     "metadata": {},
     "output_type": "execute_result"
    }
   ],
   "source": [
    "shot_char_detail_dfs.loc[(shot_char_detail_dfs['SHOT_DISTANCE']>=24)&(shot_char_detail_dfs['SHOT_MADE_FLAG']==1)].shape[0]"
   ]
  },
  {
   "cell_type": "code",
   "execution_count": 171,
   "metadata": {},
   "outputs": [
    {
     "data": {
      "text/plain": [
       "0.3993808049535604"
      ]
     },
     "execution_count": 171,
     "metadata": {},
     "output_type": "execute_result"
    }
   ],
   "source": [
    "shot_char_detail_dfs.loc[(shot_char_detail_dfs['SHOT_DISTANCE']>=24)&(shot_char_detail_dfs['SHOT_MADE_FLAG']==1)].shape[0] / shot_char_detail_dfs.loc[shot_char_detail_dfs['SHOT_DISTANCE']>=24].shape[0]"
   ]
  },
  {
   "cell_type": "code",
   "execution_count": null,
   "metadata": {},
   "outputs": [],
   "source": []
  }
 ],
 "metadata": {
  "kernelspec": {
   "display_name": "Python 3",
   "language": "python",
   "name": "python3"
  },
  "language_info": {
   "codemirror_mode": {
    "name": "ipython",
    "version": 3
   },
   "file_extension": ".py",
   "mimetype": "text/x-python",
   "name": "python",
   "nbconvert_exporter": "python",
   "pygments_lexer": "ipython3",
   "version": "3.7.6"
  }
 },
 "nbformat": 4,
 "nbformat_minor": 4
}
