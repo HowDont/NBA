{
 "cells": [
  {
   "cell_type": "code",
   "execution_count": 131,
   "metadata": {},
   "outputs": [],
   "source": [
    "from nba_api.stats.static import players\n",
    "player_dict =players.get_players()"
   ]
  },
  {
   "cell_type": "code",
   "execution_count": 132,
   "metadata": {},
   "outputs": [
    {
     "data": {
      "text/plain": [
       "{'id': 201939,\n",
       " 'full_name': 'Stephen Curry',\n",
       " 'first_name': 'Stephen',\n",
       " 'last_name': 'Curry',\n",
       " 'is_active': True}"
      ]
     },
     "execution_count": 132,
     "metadata": {},
     "output_type": "execute_result"
    }
   ],
   "source": [
    "SCurry = [player for player in player_dict if player['full_name'] == 'Stephen Curry'][0]\n",
    "SCurry"
   ]
  },
  {
   "cell_type": "code",
   "execution_count": 133,
   "metadata": {},
   "outputs": [
    {
     "data": {
      "text/plain": [
       "{'id': 1629027,\n",
       " 'full_name': 'Trae Young',\n",
       " 'first_name': 'Trae',\n",
       " 'last_name': 'Young',\n",
       " 'is_active': True}"
      ]
     },
     "execution_count": 133,
     "metadata": {},
     "output_type": "execute_result"
    }
   ],
   "source": [
    "TYoung = [player for player in player_dict if player['full_name'] == 'Trae Young'][0]\n",
    "TYoung"
   ]
  },
  {
   "cell_type": "code",
   "execution_count": 172,
   "metadata": {},
   "outputs": [
    {
     "data": {
      "text/plain": [
       "{'id': 201142,\n",
       " 'full_name': 'Kevin Durant',\n",
       " 'first_name': 'Kevin',\n",
       " 'last_name': 'Durant',\n",
       " 'is_active': True}"
      ]
     },
     "execution_count": 172,
     "metadata": {},
     "output_type": "execute_result"
    }
   ],
   "source": [
    "DLillard = [player for player in player_dict if player['full_name'] == 'Kevin Durant'][0]\n",
    "DLillard"
   ]
  },
  {
   "cell_type": "code",
   "execution_count": 5,
   "metadata": {},
   "outputs": [],
   "source": [
    "from nba_api.stats.endpoints import ShotChartDetail"
   ]
  },
  {
   "cell_type": "code",
   "execution_count": 173,
   "metadata": {},
   "outputs": [],
   "source": [
    "player_id = '201142' # fill in the player you care about\n",
    "shot_char_detail_dfs = ShotChartDetail(team_id='0', player_id=player_id, season_nullable='2018-19', context_measure_simple='FGA').get_data_frames()[0]"
   ]
  },
  {
   "cell_type": "code",
   "execution_count": 174,
   "metadata": {},
   "outputs": [
    {
     "data": {
      "text/html": [
       "<div>\n",
       "<style scoped>\n",
       "    .dataframe tbody tr th:only-of-type {\n",
       "        vertical-align: middle;\n",
       "    }\n",
       "\n",
       "    .dataframe tbody tr th {\n",
       "        vertical-align: top;\n",
       "    }\n",
       "\n",
       "    .dataframe thead th {\n",
       "        text-align: right;\n",
       "    }\n",
       "</style>\n",
       "<table border=\"1\" class=\"dataframe\">\n",
       "  <thead>\n",
       "    <tr style=\"text-align: right;\">\n",
       "      <th></th>\n",
       "      <th>GRID_TYPE</th>\n",
       "      <th>GAME_ID</th>\n",
       "      <th>GAME_EVENT_ID</th>\n",
       "      <th>PLAYER_ID</th>\n",
       "      <th>PLAYER_NAME</th>\n",
       "      <th>TEAM_ID</th>\n",
       "      <th>TEAM_NAME</th>\n",
       "      <th>PERIOD</th>\n",
       "      <th>MINUTES_REMAINING</th>\n",
       "      <th>SECONDS_REMAINING</th>\n",
       "      <th>...</th>\n",
       "      <th>SHOT_ZONE_AREA</th>\n",
       "      <th>SHOT_ZONE_RANGE</th>\n",
       "      <th>SHOT_DISTANCE</th>\n",
       "      <th>LOC_X</th>\n",
       "      <th>LOC_Y</th>\n",
       "      <th>SHOT_ATTEMPTED_FLAG</th>\n",
       "      <th>SHOT_MADE_FLAG</th>\n",
       "      <th>GAME_DATE</th>\n",
       "      <th>HTM</th>\n",
       "      <th>VTM</th>\n",
       "    </tr>\n",
       "  </thead>\n",
       "  <tbody>\n",
       "    <tr>\n",
       "      <th>0</th>\n",
       "      <td>Shot Chart Detail</td>\n",
       "      <td>0021800002</td>\n",
       "      <td>16</td>\n",
       "      <td>201142</td>\n",
       "      <td>Kevin Durant</td>\n",
       "      <td>1610612744</td>\n",
       "      <td>Golden State Warriors</td>\n",
       "      <td>1</td>\n",
       "      <td>10</td>\n",
       "      <td>57</td>\n",
       "      <td>...</td>\n",
       "      <td>Center(C)</td>\n",
       "      <td>Less Than 8 ft.</td>\n",
       "      <td>1</td>\n",
       "      <td>-7</td>\n",
       "      <td>17</td>\n",
       "      <td>1</td>\n",
       "      <td>1</td>\n",
       "      <td>20181016</td>\n",
       "      <td>GSW</td>\n",
       "      <td>OKC</td>\n",
       "    </tr>\n",
       "    <tr>\n",
       "      <th>1</th>\n",
       "      <td>Shot Chart Detail</td>\n",
       "      <td>0021800002</td>\n",
       "      <td>52</td>\n",
       "      <td>201142</td>\n",
       "      <td>Kevin Durant</td>\n",
       "      <td>1610612744</td>\n",
       "      <td>Golden State Warriors</td>\n",
       "      <td>1</td>\n",
       "      <td>8</td>\n",
       "      <td>22</td>\n",
       "      <td>...</td>\n",
       "      <td>Center(C)</td>\n",
       "      <td>Less Than 8 ft.</td>\n",
       "      <td>2</td>\n",
       "      <td>16</td>\n",
       "      <td>21</td>\n",
       "      <td>1</td>\n",
       "      <td>1</td>\n",
       "      <td>20181016</td>\n",
       "      <td>GSW</td>\n",
       "      <td>OKC</td>\n",
       "    </tr>\n",
       "    <tr>\n",
       "      <th>2</th>\n",
       "      <td>Shot Chart Detail</td>\n",
       "      <td>0021800002</td>\n",
       "      <td>72</td>\n",
       "      <td>201142</td>\n",
       "      <td>Kevin Durant</td>\n",
       "      <td>1610612744</td>\n",
       "      <td>Golden State Warriors</td>\n",
       "      <td>1</td>\n",
       "      <td>7</td>\n",
       "      <td>4</td>\n",
       "      <td>...</td>\n",
       "      <td>Left Side Center(LC)</td>\n",
       "      <td>24+ ft.</td>\n",
       "      <td>25</td>\n",
       "      <td>-180</td>\n",
       "      <td>186</td>\n",
       "      <td>1</td>\n",
       "      <td>0</td>\n",
       "      <td>20181016</td>\n",
       "      <td>GSW</td>\n",
       "      <td>OKC</td>\n",
       "    </tr>\n",
       "    <tr>\n",
       "      <th>3</th>\n",
       "      <td>Shot Chart Detail</td>\n",
       "      <td>0021800002</td>\n",
       "      <td>93</td>\n",
       "      <td>201142</td>\n",
       "      <td>Kevin Durant</td>\n",
       "      <td>1610612744</td>\n",
       "      <td>Golden State Warriors</td>\n",
       "      <td>1</td>\n",
       "      <td>5</td>\n",
       "      <td>48</td>\n",
       "      <td>...</td>\n",
       "      <td>Right Side(R)</td>\n",
       "      <td>24+ ft.</td>\n",
       "      <td>23</td>\n",
       "      <td>227</td>\n",
       "      <td>52</td>\n",
       "      <td>1</td>\n",
       "      <td>0</td>\n",
       "      <td>20181016</td>\n",
       "      <td>GSW</td>\n",
       "      <td>OKC</td>\n",
       "    </tr>\n",
       "    <tr>\n",
       "      <th>4</th>\n",
       "      <td>Shot Chart Detail</td>\n",
       "      <td>0021800002</td>\n",
       "      <td>95</td>\n",
       "      <td>201142</td>\n",
       "      <td>Kevin Durant</td>\n",
       "      <td>1610612744</td>\n",
       "      <td>Golden State Warriors</td>\n",
       "      <td>1</td>\n",
       "      <td>5</td>\n",
       "      <td>43</td>\n",
       "      <td>...</td>\n",
       "      <td>Center(C)</td>\n",
       "      <td>8-16 ft.</td>\n",
       "      <td>12</td>\n",
       "      <td>-49</td>\n",
       "      <td>115</td>\n",
       "      <td>1</td>\n",
       "      <td>1</td>\n",
       "      <td>20181016</td>\n",
       "      <td>GSW</td>\n",
       "      <td>OKC</td>\n",
       "    </tr>\n",
       "    <tr>\n",
       "      <th>...</th>\n",
       "      <td>...</td>\n",
       "      <td>...</td>\n",
       "      <td>...</td>\n",
       "      <td>...</td>\n",
       "      <td>...</td>\n",
       "      <td>...</td>\n",
       "      <td>...</td>\n",
       "      <td>...</td>\n",
       "      <td>...</td>\n",
       "      <td>...</td>\n",
       "      <td>...</td>\n",
       "      <td>...</td>\n",
       "      <td>...</td>\n",
       "      <td>...</td>\n",
       "      <td>...</td>\n",
       "      <td>...</td>\n",
       "      <td>...</td>\n",
       "      <td>...</td>\n",
       "      <td>...</td>\n",
       "      <td>...</td>\n",
       "      <td>...</td>\n",
       "    </tr>\n",
       "    <tr>\n",
       "      <th>1378</th>\n",
       "      <td>Shot Chart Detail</td>\n",
       "      <td>0021801225</td>\n",
       "      <td>143</td>\n",
       "      <td>201142</td>\n",
       "      <td>Kevin Durant</td>\n",
       "      <td>1610612744</td>\n",
       "      <td>Golden State Warriors</td>\n",
       "      <td>1</td>\n",
       "      <td>2</td>\n",
       "      <td>17</td>\n",
       "      <td>...</td>\n",
       "      <td>Center(C)</td>\n",
       "      <td>Less Than 8 ft.</td>\n",
       "      <td>1</td>\n",
       "      <td>15</td>\n",
       "      <td>4</td>\n",
       "      <td>1</td>\n",
       "      <td>0</td>\n",
       "      <td>20190410</td>\n",
       "      <td>MEM</td>\n",
       "      <td>GSW</td>\n",
       "    </tr>\n",
       "    <tr>\n",
       "      <th>1379</th>\n",
       "      <td>Shot Chart Detail</td>\n",
       "      <td>0021801225</td>\n",
       "      <td>156</td>\n",
       "      <td>201142</td>\n",
       "      <td>Kevin Durant</td>\n",
       "      <td>1610612744</td>\n",
       "      <td>Golden State Warriors</td>\n",
       "      <td>1</td>\n",
       "      <td>1</td>\n",
       "      <td>22</td>\n",
       "      <td>...</td>\n",
       "      <td>Right Side(R)</td>\n",
       "      <td>16-24 ft.</td>\n",
       "      <td>17</td>\n",
       "      <td>172</td>\n",
       "      <td>37</td>\n",
       "      <td>1</td>\n",
       "      <td>1</td>\n",
       "      <td>20190410</td>\n",
       "      <td>MEM</td>\n",
       "      <td>GSW</td>\n",
       "    </tr>\n",
       "    <tr>\n",
       "      <th>1380</th>\n",
       "      <td>Shot Chart Detail</td>\n",
       "      <td>0021801225</td>\n",
       "      <td>250</td>\n",
       "      <td>201142</td>\n",
       "      <td>Kevin Durant</td>\n",
       "      <td>1610612744</td>\n",
       "      <td>Golden State Warriors</td>\n",
       "      <td>2</td>\n",
       "      <td>5</td>\n",
       "      <td>8</td>\n",
       "      <td>...</td>\n",
       "      <td>Center(C)</td>\n",
       "      <td>Less Than 8 ft.</td>\n",
       "      <td>0</td>\n",
       "      <td>2</td>\n",
       "      <td>6</td>\n",
       "      <td>1</td>\n",
       "      <td>1</td>\n",
       "      <td>20190410</td>\n",
       "      <td>MEM</td>\n",
       "      <td>GSW</td>\n",
       "    </tr>\n",
       "    <tr>\n",
       "      <th>1381</th>\n",
       "      <td>Shot Chart Detail</td>\n",
       "      <td>0021801225</td>\n",
       "      <td>253</td>\n",
       "      <td>201142</td>\n",
       "      <td>Kevin Durant</td>\n",
       "      <td>1610612744</td>\n",
       "      <td>Golden State Warriors</td>\n",
       "      <td>2</td>\n",
       "      <td>4</td>\n",
       "      <td>41</td>\n",
       "      <td>...</td>\n",
       "      <td>Right Side(R)</td>\n",
       "      <td>16-24 ft.</td>\n",
       "      <td>19</td>\n",
       "      <td>190</td>\n",
       "      <td>17</td>\n",
       "      <td>1</td>\n",
       "      <td>1</td>\n",
       "      <td>20190410</td>\n",
       "      <td>MEM</td>\n",
       "      <td>GSW</td>\n",
       "    </tr>\n",
       "    <tr>\n",
       "      <th>1382</th>\n",
       "      <td>Shot Chart Detail</td>\n",
       "      <td>0021801225</td>\n",
       "      <td>270</td>\n",
       "      <td>201142</td>\n",
       "      <td>Kevin Durant</td>\n",
       "      <td>1610612744</td>\n",
       "      <td>Golden State Warriors</td>\n",
       "      <td>2</td>\n",
       "      <td>3</td>\n",
       "      <td>9</td>\n",
       "      <td>...</td>\n",
       "      <td>Right Side Center(RC)</td>\n",
       "      <td>16-24 ft.</td>\n",
       "      <td>20</td>\n",
       "      <td>63</td>\n",
       "      <td>191</td>\n",
       "      <td>1</td>\n",
       "      <td>1</td>\n",
       "      <td>20190410</td>\n",
       "      <td>MEM</td>\n",
       "      <td>GSW</td>\n",
       "    </tr>\n",
       "  </tbody>\n",
       "</table>\n",
       "<p>1383 rows × 24 columns</p>\n",
       "</div>"
      ],
      "text/plain": [
       "              GRID_TYPE     GAME_ID  GAME_EVENT_ID  PLAYER_ID   PLAYER_NAME  \\\n",
       "0     Shot Chart Detail  0021800002             16     201142  Kevin Durant   \n",
       "1     Shot Chart Detail  0021800002             52     201142  Kevin Durant   \n",
       "2     Shot Chart Detail  0021800002             72     201142  Kevin Durant   \n",
       "3     Shot Chart Detail  0021800002             93     201142  Kevin Durant   \n",
       "4     Shot Chart Detail  0021800002             95     201142  Kevin Durant   \n",
       "...                 ...         ...            ...        ...           ...   \n",
       "1378  Shot Chart Detail  0021801225            143     201142  Kevin Durant   \n",
       "1379  Shot Chart Detail  0021801225            156     201142  Kevin Durant   \n",
       "1380  Shot Chart Detail  0021801225            250     201142  Kevin Durant   \n",
       "1381  Shot Chart Detail  0021801225            253     201142  Kevin Durant   \n",
       "1382  Shot Chart Detail  0021801225            270     201142  Kevin Durant   \n",
       "\n",
       "         TEAM_ID              TEAM_NAME  PERIOD  MINUTES_REMAINING  \\\n",
       "0     1610612744  Golden State Warriors       1                 10   \n",
       "1     1610612744  Golden State Warriors       1                  8   \n",
       "2     1610612744  Golden State Warriors       1                  7   \n",
       "3     1610612744  Golden State Warriors       1                  5   \n",
       "4     1610612744  Golden State Warriors       1                  5   \n",
       "...          ...                    ...     ...                ...   \n",
       "1378  1610612744  Golden State Warriors       1                  2   \n",
       "1379  1610612744  Golden State Warriors       1                  1   \n",
       "1380  1610612744  Golden State Warriors       2                  5   \n",
       "1381  1610612744  Golden State Warriors       2                  4   \n",
       "1382  1610612744  Golden State Warriors       2                  3   \n",
       "\n",
       "      SECONDS_REMAINING  ...         SHOT_ZONE_AREA  SHOT_ZONE_RANGE  \\\n",
       "0                    57  ...              Center(C)  Less Than 8 ft.   \n",
       "1                    22  ...              Center(C)  Less Than 8 ft.   \n",
       "2                     4  ...   Left Side Center(LC)          24+ ft.   \n",
       "3                    48  ...          Right Side(R)          24+ ft.   \n",
       "4                    43  ...              Center(C)         8-16 ft.   \n",
       "...                 ...  ...                    ...              ...   \n",
       "1378                 17  ...              Center(C)  Less Than 8 ft.   \n",
       "1379                 22  ...          Right Side(R)        16-24 ft.   \n",
       "1380                  8  ...              Center(C)  Less Than 8 ft.   \n",
       "1381                 41  ...          Right Side(R)        16-24 ft.   \n",
       "1382                  9  ...  Right Side Center(RC)        16-24 ft.   \n",
       "\n",
       "     SHOT_DISTANCE LOC_X LOC_Y SHOT_ATTEMPTED_FLAG  SHOT_MADE_FLAG  GAME_DATE  \\\n",
       "0                1    -7    17                   1               1   20181016   \n",
       "1                2    16    21                   1               1   20181016   \n",
       "2               25  -180   186                   1               0   20181016   \n",
       "3               23   227    52                   1               0   20181016   \n",
       "4               12   -49   115                   1               1   20181016   \n",
       "...            ...   ...   ...                 ...             ...        ...   \n",
       "1378             1    15     4                   1               0   20190410   \n",
       "1379            17   172    37                   1               1   20190410   \n",
       "1380             0     2     6                   1               1   20190410   \n",
       "1381            19   190    17                   1               1   20190410   \n",
       "1382            20    63   191                   1               1   20190410   \n",
       "\n",
       "      HTM  VTM  \n",
       "0     GSW  OKC  \n",
       "1     GSW  OKC  \n",
       "2     GSW  OKC  \n",
       "3     GSW  OKC  \n",
       "4     GSW  OKC  \n",
       "...   ...  ...  \n",
       "1378  MEM  GSW  \n",
       "1379  MEM  GSW  \n",
       "1380  MEM  GSW  \n",
       "1381  MEM  GSW  \n",
       "1382  MEM  GSW  \n",
       "\n",
       "[1383 rows x 24 columns]"
      ]
     },
     "execution_count": 174,
     "metadata": {},
     "output_type": "execute_result"
    }
   ],
   "source": [
    "shot_char_detail_dfs"
   ]
  },
  {
   "cell_type": "code",
   "execution_count": 175,
   "metadata": {},
   "outputs": [
    {
     "data": {
      "text/plain": [
       "array([ 1,  2, 25, 23, 12, 20,  4, 17, 27, 22, 18, 16, 14,  5, 11,  8, 24,\n",
       "       10, 13,  9, 19,  6, 26,  7, 28, 15,  0,  3, 35, 29, 30, 31, 37, 21,\n",
       "       34, 32], dtype=int64)"
      ]
     },
     "execution_count": 175,
     "metadata": {},
     "output_type": "execute_result"
    }
   ],
   "source": [
    "shot_char_detail_dfs.SHOT_DISTANCE.unique()"
   ]
  },
  {
   "cell_type": "code",
   "execution_count": 176,
   "metadata": {},
   "outputs": [
    {
     "data": {
      "text/plain": [
       "<matplotlib.axes._subplots.AxesSubplot at 0x22f1a4b1608>"
      ]
     },
     "execution_count": 176,
     "metadata": {},
     "output_type": "execute_result"
    },
    {
     "data": {
      "image/png": "[encoded data removed]",
      "text/plain": [
       "<Figure size 432x288 with 1 Axes>"
      ]
     },
     "metadata": {
      "needs_background": "light"
     },
     "output_type": "display_data"
    }
   ],
   "source": [
    "import seaborn as sns\n",
    "sns.scatterplot(x='LOC_X', y='LOC_Y', data=shot_char_detail_dfs, color='red')"
   ]
  },
  {
   "cell_type": "code",
   "execution_count": 163,
   "metadata": {},
   "outputs": [
    {
     "data": {
      "text/plain": [
       "<matplotlib.axes._subplots.AxesSubplot at 0x22f1a35e208>"
      ]
     },
     "execution_count": 163,
     "metadata": {},
     "output_type": "execute_result"
    },
    {
     "data": {
      "image/png": "[encoded data removed]",
      "text/plain": [
       "<Figure size 432x288 with 1 Axes>"
      ]
     },
     "metadata": {
      "needs_background": "light"
     },
     "output_type": "display_data"
    }
   ],
   "source": [
    "sns.scatterplot(x='LOC_X', y='LOC_Y', data=shot_char_detail_dfs.loc[shot_char_detail_dfs['SHOT_DISTANCE']>=24], color='red')"
   ]
  },
  {
   "cell_type": "code",
   "execution_count": 164,
   "metadata": {},
   "outputs": [
    {
     "data": {
      "text/plain": [
       "<matplotlib.axes._subplots.AxesSubplot at 0x22f1a3ef0c8>"
      ]
     },
     "execution_count": 164,
     "metadata": {},
     "output_type": "execute_result"
    },
    {
     "data": {
      "image/png": "[encoded data removed]",
      "text/plain": [
       "<Figure size 432x288 with 1 Axes>"
      ]
     },
     "metadata": {
      "needs_background": "light"
     },
     "output_type": "display_data"
    }
   ],
   "source": [
    "sns.scatterplot(x='LOC_X', y='LOC_Y', data=shot_char_detail_dfs.loc[shot_char_detail_dfs['SHOT_DISTANCE']>26], color='red')"
   ]
  },
  {
   "cell_type": "code",
   "execution_count": 169,
   "metadata": {},
   "outputs": [
    {
     "data": {
      "text/plain": [
       "646"
      ]
     },
     "execution_count": 169,
     "metadata": {},
     "output_type": "execute_result"
    }
   ],
   "source": [
    "shot_char_detail_dfs.loc[shot_char_detail_dfs['SHOT_DISTANCE']>=24].shape[0]"
   ]
  },
  {
   "cell_type": "code",
   "execution_count": 166,
   "metadata": {},
   "outputs": [
    {
     "data": {
      "text/plain": [
       "29.632218844984802"
      ]
     },
     "execution_count": 166,
     "metadata": {},
     "output_type": "execute_result"
    }
   ],
   "source": [
    "shot_char_detail_dfs.loc[shot_char_detail_dfs['SHOT_DISTANCE']>26]['SHOT_DISTANCE'].mean()"
   ]
  },
  {
   "cell_type": "code",
   "execution_count": 170,
   "metadata": {},
   "outputs": [
    {
     "data": {
      "text/plain": [
       "258"
      ]
     },
     "execution_count": 170,
     "metadata": {},
     "output_type": "execute_result"
    }
   ],
   "source": [
    "shot_char_detail_dfs.loc[(shot_char_detail_dfs['SHOT_DISTANCE']>=24)&(shot_char_detail_dfs['SHOT_MADE_FLAG']==1)].shape[0]"
   ]
  },
  {
   "cell_type": "code",
   "execution_count": 171,
   "metadata": {},
   "outputs": [
    {
     "data": {
      "text/plain": [
       "0.3993808049535604"
      ]
     },
     "execution_count": 171,
     "metadata": {},
     "output_type": "execute_result"
    }
   ],
   "source": [
    "shot_char_detail_dfs.loc[(shot_char_detail_dfs['SHOT_DISTANCE']>=24)&(shot_char_detail_dfs['SHOT_MADE_FLAG']==1)].shape[0] / shot_char_detail_dfs.loc[shot_char_detail_dfs['SHOT_DISTANCE']>=24].shape[0]"
   ]
  },
  {
   "cell_type": "code",
   "execution_count": null,
   "metadata": {},
   "outputs": [],
   "source": []
  }
 ],
 "metadata": {
  "kernelspec": {
   "display_name": "Python 3",
   "language": "python",
   "name": "python3"
  },
  "language_info": {
   "codemirror_mode": {
    "name": "ipython",
    "version": 3
   },
   "file_extension": ".py",
   "mimetype": "text/x-python",
   "name": "python",
   "nbconvert_exporter": "python",
   "pygments_lexer": "ipython3",
   "version": "3.7.6"
  }
 },
 "nbformat": 4,
 "nbformat_minor": 4
}
